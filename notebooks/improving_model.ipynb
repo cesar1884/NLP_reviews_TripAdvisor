{
 "cells": [
  {
   "cell_type": "code",
   "execution_count": 3,
   "metadata": {},
   "outputs": [],
   "source": [
    "import os\n",
    "import sys\n",
    "os.chdir('..')\n",
    "\n",
    "if os.getcwd() not in sys.path:\n",
    "    sys.path.append(os.getcwd())"
   ]
  },
  {
   "cell_type": "code",
   "execution_count": 6,
   "metadata": {},
   "outputs": [],
   "source": [
    "import pandas as pd\n",
    "import numpy as np\n",
    "import matplotlib.pyplot as plt\n",
    "import seaborn as sns\n",
    "\n",
    "\n",
    "from scripts.text_classifier import TextClassifier\n",
    "from sklearn.model_selection import train_test_split\n",
    "from sklearn.feature_extraction.text import TfidfVectorizer, CountVectorizer\n",
    "from sklearn.metrics import accuracy_score, make_scorer, f1_score\n",
    "\n",
    "from sklearn.model_selection import GridSearchCV\n",
    "from sklearn.pipeline import Pipeline\n",
    "from sklearn.linear_model import LogisticRegression\n",
    "from sklearn.tree import DecisionTreeClassifier\n",
    "from sklearn.ensemble import RandomForestClassifier\n",
    "from sklearn.neighbors import KNeighborsClassifier\n",
    "from sklearn.naive_bayes import MultinomialNB\n",
    "import xgboost as xgb\n",
    "from sklearn.utils import class_weight\n",
    "\n",
    "\n",
    "\n"
   ]
  },
  {
   "cell_type": "code",
   "execution_count": 13,
   "metadata": {},
   "outputs": [],
   "source": [
    "dataset = pd.read_csv('data/cleaned_tripadvisor_reviews.csv', index_col=0)\n"
   ]
  },
  {
   "attachments": {},
   "cell_type": "markdown",
   "metadata": {},
   "source": [
    "# ***How to improve our model ?***\n",
    "\n",
    "First we want to try different model in order to have an overview of their result and then get an idea of which model we may use. we will loop through 5 model with 2 different vectorizer and print the classification to find the model with the best result"
   ]
  },
  {
   "cell_type": "code",
   "execution_count": 84,
   "metadata": {},
   "outputs": [
    {
     "name": "stdout",
     "output_type": "stream",
     "text": [
      "Evaluating model: Logistic Regression\n",
      "------------------------------\n"
     ]
    },
    {
     "name": "stderr",
     "output_type": "stream",
     "text": [
      "/Users/delaygues/opt/anaconda3/lib/python3.8/site-packages/sklearn/linear_model/_logistic.py:458: ConvergenceWarning: lbfgs failed to converge (status=1):\n",
      "STOP: TOTAL NO. of ITERATIONS REACHED LIMIT.\n",
      "\n",
      "Increase the number of iterations (max_iter) or scale the data as shown in:\n",
      "    https://scikit-learn.org/stable/modules/preprocessing.html\n",
      "Please also refer to the documentation for alternative solver options:\n",
      "    https://scikit-learn.org/stable/modules/linear_model.html#logistic-regression\n",
      "  n_iter_i = _check_optimize_result(\n"
     ]
    },
    {
     "name": "stdout",
     "output_type": "stream",
     "text": [
      "Accuracy: 0.6309\n",
      "Classification Report:\n",
      "              precision    recall  f1-score   support\n",
      "\n",
      "           1       0.75      0.62      0.68       292\n",
      "           2       0.45      0.38      0.41       333\n",
      "           3       0.44      0.24      0.31       432\n",
      "           4       0.55      0.51      0.53      1252\n",
      "           5       0.70      0.86      0.77      1790\n",
      "\n",
      "    accuracy                           0.63      4099\n",
      "   macro avg       0.58      0.52      0.54      4099\n",
      "weighted avg       0.61      0.63      0.61      4099\n",
      "\n",
      "\n",
      "\n",
      "\n",
      "Evaluating model: Decision Tree\n",
      "------------------------------\n",
      "Accuracy: 0.4550\n",
      "Classification Report:\n",
      "              precision    recall  f1-score   support\n",
      "\n",
      "           1       0.45      0.36      0.40       292\n",
      "           2       0.23      0.23      0.23       333\n",
      "           3       0.21      0.21      0.21       432\n",
      "           4       0.38      0.35      0.37      1252\n",
      "           5       0.59      0.64      0.62      1790\n",
      "\n",
      "    accuracy                           0.45      4099\n",
      "   macro avg       0.37      0.36      0.37      4099\n",
      "weighted avg       0.45      0.45      0.45      4099\n",
      "\n",
      "\n",
      "\n",
      "\n",
      "Evaluating model: Random Forest\n",
      "------------------------------\n",
      "Accuracy: 0.5367\n",
      "Classification Report:\n",
      "              precision    recall  f1-score   support\n",
      "\n",
      "           1       0.77      0.47      0.59       292\n",
      "           2       0.42      0.05      0.10       333\n",
      "           3       0.48      0.03      0.05       432\n",
      "           4       0.42      0.31      0.36      1252\n",
      "           5       0.56      0.92      0.70      1790\n",
      "\n",
      "    accuracy                           0.54      4099\n",
      "   macro avg       0.53      0.36      0.36      4099\n",
      "weighted avg       0.51      0.54      0.47      4099\n",
      "\n",
      "\n",
      "\n",
      "\n",
      "Evaluating model: K-Nearest Neighbors\n",
      "------------------------------\n",
      "Accuracy: 0.4921\n",
      "Classification Report:\n",
      "              precision    recall  f1-score   support\n",
      "\n",
      "           1       0.52      0.38      0.44       292\n",
      "           2       0.27      0.17      0.21       333\n",
      "           3       0.25      0.15      0.19       432\n",
      "           4       0.40      0.42      0.41      1252\n",
      "           5       0.60      0.70      0.65      1790\n",
      "\n",
      "    accuracy                           0.49      4099\n",
      "   macro avg       0.41      0.37      0.38      4099\n",
      "weighted avg       0.47      0.49      0.48      4099\n",
      "\n",
      "\n",
      "\n",
      "\n",
      "Evaluating model: Naive Bayes\n",
      "------------------------------\n",
      "Accuracy: 0.5479\n",
      "Classification Report:\n",
      "              precision    recall  f1-score   support\n",
      "\n",
      "           1       0.89      0.35      0.50       292\n",
      "           2       0.39      0.17      0.24       333\n",
      "           3       0.25      0.01      0.02       432\n",
      "           4       0.40      0.35      0.37      1252\n",
      "           5       0.61      0.92      0.73      1790\n",
      "\n",
      "    accuracy                           0.55      4099\n",
      "   macro avg       0.51      0.36      0.37      4099\n",
      "weighted avg       0.51      0.55      0.49      4099\n",
      "\n",
      "\n",
      "\n",
      "\n"
     ]
    }
   ],
   "source": [
    "from sklearn.linear_model import LogisticRegression\n",
    "from sklearn.tree import DecisionTreeClassifier\n",
    "from sklearn.ensemble import RandomForestClassifier\n",
    "from sklearn.neighbors import KNeighborsClassifier\n",
    "from sklearn.naive_bayes import MultinomialNB\n",
    "\n",
    "X = dataset['cleaned_text']\n",
    "y = dataset['Rating']\n",
    "X_train, X_test, y_train, y_test = train_test_split(X, y, test_size=0.2, random_state=42)\n",
    "\n",
    "# Liste des modèles à évaluer\n",
    "models = {\n",
    "    \"Logistic Regression\": LogisticRegression(),\n",
    "    \"Decision Tree\": DecisionTreeClassifier(),\n",
    "    \"Random Forest\": RandomForestClassifier(),\n",
    "    \"K-Nearest Neighbors\": KNeighborsClassifier(),\n",
    "    \"Naive Bayes\": MultinomialNB()\n",
    "}\n",
    "\n",
    "\n",
    "for name, model in models.items():\n",
    "    print(f\"Evaluating model: {name}\\n\" + \"-\" * 30)\n",
    "    \n",
    "    classifier = TextClassifier(model=model, vectorizer = TfidfVectorizer(max_features=5000, stop_words='english'))\n",
    "    classifier.train(X_train, y_train)\n",
    "    classifier.evaluate(X_test, y_test)\n",
    "    \n",
    "    print(\"\\n\\n\")\n"
   ]
  },
  {
   "attachments": {},
   "cell_type": "markdown",
   "metadata": {},
   "source": [
    "### ***observation:***\n",
    "\n",
    "based on the result. we can clealy say that Logistic regression has the best result. the Naive bayes has an accuracy that is closer to the one obtained by the Logistic regression but it is because it is clearly underfitted and he just classify everything in the classes with the most amount of datas"
   ]
  },
  {
   "attachments": {},
   "cell_type": "markdown",
   "metadata": {},
   "source": [
    "### we will try another vectorizer to compare ( interesting as tfidf is not really good with naive bayes)"
   ]
  },
  {
   "cell_type": "code",
   "execution_count": 6,
   "metadata": {},
   "outputs": [
    {
     "name": "stdout",
     "output_type": "stream",
     "text": [
      "Evaluating model: Logistic Regression\n",
      "------------------------------\n"
     ]
    },
    {
     "name": "stderr",
     "output_type": "stream",
     "text": [
      "/Users/delaygues/opt/anaconda3/lib/python3.8/site-packages/sklearn/linear_model/_logistic.py:458: ConvergenceWarning: lbfgs failed to converge (status=1):\n",
      "STOP: TOTAL NO. of ITERATIONS REACHED LIMIT.\n",
      "\n",
      "Increase the number of iterations (max_iter) or scale the data as shown in:\n",
      "    https://scikit-learn.org/stable/modules/preprocessing.html\n",
      "Please also refer to the documentation for alternative solver options:\n",
      "    https://scikit-learn.org/stable/modules/linear_model.html#logistic-regression\n",
      "  n_iter_i = _check_optimize_result(\n"
     ]
    },
    {
     "name": "stdout",
     "output_type": "stream",
     "text": [
      "Accuracy: 0.5862\n",
      "Classification Report:\n",
      "              precision    recall  f1-score   support\n",
      "\n",
      "           1       0.66      0.57      0.61       292\n",
      "           2       0.38      0.41      0.40       333\n",
      "           3       0.35      0.32      0.34       432\n",
      "           4       0.50      0.44      0.47      1252\n",
      "           5       0.71      0.79      0.74      1790\n",
      "\n",
      "    accuracy                           0.59      4099\n",
      "   macro avg       0.52      0.51      0.51      4099\n",
      "weighted avg       0.58      0.59      0.58      4099\n",
      "\n",
      "\n",
      "\n",
      "\n",
      "Evaluating model: Decision Tree\n",
      "------------------------------\n",
      "Accuracy: 0.4538\n",
      "Classification Report:\n",
      "              precision    recall  f1-score   support\n",
      "\n",
      "           1       0.47      0.38      0.42       292\n",
      "           2       0.20      0.19      0.19       333\n",
      "           3       0.21      0.19      0.20       432\n",
      "           4       0.39      0.38      0.38      1252\n",
      "           5       0.59      0.63      0.61      1790\n",
      "\n",
      "    accuracy                           0.45      4099\n",
      "   macro avg       0.37      0.35      0.36      4099\n",
      "weighted avg       0.45      0.45      0.45      4099\n",
      "\n",
      "\n",
      "\n",
      "\n",
      "Evaluating model: Random Forest\n",
      "------------------------------\n",
      "Accuracy: 0.5387\n",
      "Classification Report:\n",
      "              precision    recall  f1-score   support\n",
      "\n",
      "           1       0.72      0.46      0.56       292\n",
      "           2       0.40      0.05      0.09       333\n",
      "           3       0.50      0.04      0.08       432\n",
      "           4       0.42      0.33      0.37      1252\n",
      "           5       0.57      0.91      0.70      1790\n",
      "\n",
      "    accuracy                           0.54      4099\n",
      "   macro avg       0.52      0.36      0.36      4099\n",
      "weighted avg       0.51      0.54      0.47      4099\n",
      "\n",
      "\n",
      "\n",
      "\n",
      "Evaluating model: K-Nearest Neighbors\n",
      "------------------------------\n",
      "Accuracy: 0.4525\n",
      "Classification Report:\n",
      "              precision    recall  f1-score   support\n",
      "\n",
      "           1       0.38      0.25      0.30       292\n",
      "           2       0.30      0.09      0.14       333\n",
      "           3       0.23      0.15      0.18       432\n",
      "           4       0.37      0.39      0.38      1252\n",
      "           5       0.55      0.67      0.60      1790\n",
      "\n",
      "    accuracy                           0.45      4099\n",
      "   macro avg       0.36      0.31      0.32      4099\n",
      "weighted avg       0.43      0.45      0.43      4099\n",
      "\n",
      "\n",
      "\n",
      "\n",
      "Evaluating model: Naive Bayes\n",
      "------------------------------\n",
      "Accuracy: 0.6050\n",
      "Classification Report:\n",
      "              precision    recall  f1-score   support\n",
      "\n",
      "           1       0.68      0.62      0.65       292\n",
      "           2       0.38      0.46      0.42       333\n",
      "           3       0.37      0.35      0.36       432\n",
      "           4       0.54      0.43      0.48      1252\n",
      "           5       0.71      0.82      0.76      1790\n",
      "\n",
      "    accuracy                           0.61      4099\n",
      "   macro avg       0.54      0.53      0.53      4099\n",
      "weighted avg       0.60      0.61      0.60      4099\n",
      "\n",
      "\n",
      "\n",
      "\n"
     ]
    }
   ],
   "source": [
    "X = dataset['cleaned_text']\n",
    "y = dataset['Rating']\n",
    "X_train, X_test, y_train, y_test = train_test_split(X, y, test_size=0.2, random_state=42)\n",
    "\n",
    "# Liste des modèles à évaluer\n",
    "models = {\n",
    "    \"Logistic Regression\": LogisticRegression(),\n",
    "    \"Decision Tree\": DecisionTreeClassifier(),\n",
    "    \"Random Forest\": RandomForestClassifier(),\n",
    "    \"K-Nearest Neighbors\": KNeighborsClassifier(),\n",
    "    \"Naive Bayes\": MultinomialNB()\n",
    "}\n",
    "\n",
    "\n",
    "for name, model in models.items():\n",
    "    print(f\"Evaluating model: {name}\\n\" + \"-\" * 30)\n",
    "    \n",
    "    classifier = TextClassifier(model=model, vectorizer= CountVectorizer(max_features=5000, stop_words='english'))\n",
    "    classifier.train(X_train, y_train)\n",
    "    classifier.evaluate(X_test, y_test)\n",
    "    \n",
    "    print(\"\\n\\n\")"
   ]
  },
  {
   "attachments": {},
   "cell_type": "markdown",
   "metadata": {},
   "source": [
    "### ***observation:***\n",
    "\n",
    "based on the result of the 2 different loop we have 2 possibilites that are really close to each other: \n",
    "- Naive Bayes with the Count vectorizer\n",
    "- Logistic Regression with TFIDF\n",
    "we may focus on 1 one them but the others are eliminated of our process"
   ]
  },
  {
   "attachments": {},
   "cell_type": "markdown",
   "metadata": {},
   "source": [
    "# ***Class Weight***\n",
    "\n",
    "During the data exploration we noticed that the classes were clearly unbalanced. 5 and 4 are dominant and represent the major part of the data. our baseline model have a low recal on class 2 and 3, it means that it is difficult for the model to detect these class. it demonstrate that my model is underfit. it is not able to detect 5 classes and we will try to improve this. On this specific part we may consider class weight or oversampling as we do not have a huge amount of datas"
   ]
  },
  {
   "attachments": {},
   "cell_type": "markdown",
   "metadata": {},
   "source": [
    "I will whoose to focus on Logistic regression as it is easy to implement class weight and we will see if the result are better than baseline"
   ]
  },
  {
   "cell_type": "code",
   "execution_count": 3,
   "metadata": {},
   "outputs": [
    {
     "name": "stdout",
     "output_type": "stream",
     "text": [
      "Accuracy: 0.6094169309587705\n",
      "              precision    recall  f1-score   support\n",
      "\n",
      "           1       0.65      0.70      0.67       292\n",
      "           2       0.38      0.48      0.43       333\n",
      "           3       0.36      0.44      0.39       432\n",
      "           4       0.55      0.48      0.52      1252\n",
      "           5       0.77      0.75      0.76      1790\n",
      "\n",
      "    accuracy                           0.61      4099\n",
      "   macro avg       0.54      0.57      0.55      4099\n",
      "weighted avg       0.62      0.61      0.61      4099\n",
      "\n"
     ]
    },
    {
     "data": {
      "text/plain": [
       "(0.6094169309587705,\n",
       " '              precision    recall  f1-score   support\\n\\n           1       0.65      0.70      0.67       292\\n           2       0.38      0.48      0.43       333\\n           3       0.36      0.44      0.39       432\\n           4       0.55      0.48      0.52      1252\\n           5       0.77      0.75      0.76      1790\\n\\n    accuracy                           0.61      4099\\n   macro avg       0.54      0.57      0.55      4099\\nweighted avg       0.62      0.61      0.61      4099\\n')"
      ]
     },
     "execution_count": 3,
     "metadata": {},
     "output_type": "execute_result"
    }
   ],
   "source": [
    "X = dataset['cleaned_text']\n",
    "y = dataset['Rating']\n",
    "X_train, X_test, y_train, y_test = train_test_split(X, y, test_size=0.2, random_state=42)\n",
    "\n",
    "\n",
    "classifier = TextClassifier(model=LogisticRegression(max_iter=1000, class_weight='balanced'), vectorizer=TfidfVectorizer(max_features=5000, stop_words='english'))\n",
    "classifier.train(X_train, y_train)\n",
    "classifier.evaluate(X_test, y_test)"
   ]
  },
  {
   "attachments": {},
   "cell_type": "markdown",
   "metadata": {},
   "source": [
    "### ***observation:***\n",
    "\n",
    "After ou first experimentation we can see that using class weight has a good impact on the recall for class 2 and 3. it could be interesting to keep it even if the accuracy decrease"
   ]
  },
  {
   "attachments": {},
   "cell_type": "markdown",
   "metadata": {},
   "source": [
    "# Trying to use Xgboost model\n",
    "\n",
    "I'm wondering if more complex model may have better result on this task and I'm interested to try the Xgboost that had a lot of good result in previous project, I will apply some modification as class weight is not implemented natively "
   ]
  },
  {
   "cell_type": "code",
   "execution_count": 5,
   "metadata": {},
   "outputs": [
    {
     "name": "stdout",
     "output_type": "stream",
     "text": [
      "Accuracy: 0.6031\n",
      "Classification Report:\n",
      "              precision    recall  f1-score   support\n",
      "\n",
      "           0       0.75      0.52      0.62       292\n",
      "           1       0.41      0.36      0.39       333\n",
      "           2       0.45      0.16      0.23       432\n",
      "           3       0.51      0.50      0.50      1252\n",
      "           4       0.68      0.84      0.75      1790\n",
      "\n",
      "    accuracy                           0.60      4099\n",
      "   macro avg       0.56      0.48      0.50      4099\n",
      "weighted avg       0.59      0.60      0.58      4099\n",
      "\n"
     ]
    }
   ],
   "source": [
    "from sklearn.utils import class_weight\n",
    "\n",
    "X = dataset['cleaned_text']\n",
    "y = dataset['Rating']\n",
    "# xgboost need a class that start from 0\n",
    "y = y - 1\n",
    "X_train, X_test, y_train, y_test = train_test_split(X, y, test_size=0.2, random_state=42)\n",
    "\n",
    "sample_weights = class_weight.compute_sample_weight(class_weight='balanced', y=y_train)\n",
    "weight_dict = dict(enumerate(sample_weights))\n",
    "sample_weights = y_train.map(weight_dict).values\n",
    "\n",
    "classifier = TextClassifier(model=xgb.XGBClassifier(), vectorizer=CountVectorizer(max_features=5000, stop_words='english'))\n",
    "classifier.train(X_train, y_train, sample_weight=sample_weights)\n",
    "classifier.evaluate(X_test, y_test)"
   ]
  },
  {
   "attachments": {},
   "cell_type": "markdown",
   "metadata": {},
   "source": [
    "### ***observation:***\n",
    "\n",
    "The result are correct but not as good as the linear regression due to the fact tha twe have a really bad recall in class 3."
   ]
  },
  {
   "attachments": {},
   "cell_type": "markdown",
   "metadata": {},
   "source": [
    "# Logistic Regression with class_weight='balanced'\n",
    "\n",
    "this model is actually the one that give the best result so we will focus on this and try to improve our result"
   ]
  },
  {
   "cell_type": "code",
   "execution_count": 17,
   "metadata": {},
   "outputs": [
    {
     "data": {
      "image/png": "[encoded data removed]",
      "text/plain": [
       "<Figure size 640x480 with 1 Axes>"
      ]
     },
     "metadata": {},
     "output_type": "display_data"
    }
   ],
   "source": [
    "X = dataset['cleaned_text']\n",
    "y = dataset['Rating']\n",
    "X_train, X_test, y_train, y_test = train_test_split(X, y, test_size=0.2, random_state=42)\n",
    "\n",
    "# Initialisations\n",
    "train_sizes = [int(len(X_train) * x) for x in np.linspace(0.1, 1.0, 10)]\n",
    "train_scores = []\n",
    "validation_scores = []\n",
    "\n",
    "# Boucle sur chaque taille de sous-ensemble\n",
    "for size in train_sizes:\n",
    "    # Créer le sous-ensemble de données\n",
    "    subset_X_train, subset_y_train = X_train[:size], y_train[:size]\n",
    "    \n",
    "    # Créer le classifier\n",
    "    classifier = TextClassifier(model=LogisticRegression(max_iter=1000, class_weight='balanced'), vectorizer=TfidfVectorizer(max_features=5000, stop_words='english'))\n",
    "    classifier.train(subset_X_train, subset_y_train)\n",
    "    \n",
    "    # Évaluer sur le sous-ensemble d'apprentissage et l'ensemble de validation\n",
    "    y_train_pred = classifier.predict(subset_X_train)\n",
    "    y_val_pred = classifier.predict(X_test)\n",
    "    \n",
    "    train_accuracy = accuracy_score(subset_y_train, y_train_pred)\n",
    "    validation_accuracy = accuracy_score(y_test, y_val_pred)\n",
    "    \n",
    "    train_scores.append(train_accuracy)\n",
    "    validation_scores.append(validation_accuracy)\n",
    "\n",
    "# Visualiser les résultats\n",
    "plt.plot(train_sizes, train_scores, label=\"Training accuracy\")\n",
    "plt.plot(train_sizes, validation_scores, label=\"Validation accuracy\")\n",
    "plt.xlabel(\"Number of training examples\")\n",
    "plt.ylabel(\"Accuracy\")\n",
    "plt.legend()\n",
    "plt.title(\"Learning Curves\")\n",
    "plt.show()\n"
   ]
  },
  {
   "attachments": {},
   "cell_type": "markdown",
   "metadata": {},
   "source": [
    "### ***observation:***\n",
    "\n",
    "The difference between the 2 curves is important. It show that our model is clealy overfitting and the quantity of data reduce a bit this issue. However, the validation curves is not really improving and we can suppose that the model will not really improve even if we had a lot od datas in supplement"
   ]
  },
  {
   "attachments": {},
   "cell_type": "markdown",
   "metadata": {},
   "source": [
    "# ***Hyperparameter tuning on different metrics***"
   ]
  },
  {
   "cell_type": "code",
   "execution_count": null,
   "metadata": {},
   "outputs": [],
   "source": [
    "# Séparation des données en ensembles d'entraînement et de test\n",
    "X = dataset['cleaned_text']\n",
    "y = dataset['Rating']\n",
    "X_train, X_test, y_train, y_test = train_test_split(X, y, test_size=0.2, random_state=42)\n",
    "\n",
    "# Paramètres pour GridSearchCV\n",
    "param_grid = {\n",
    "    'model__C': [0.01, 0.1, 1, 10, 100],\n",
    "    'model__penalty': ['l1', 'l2'],\n",
    "    'model__solver': ['liblinear', 'saga'],\n",
    "    'vectorizer__max_features': [10000],  # Si vous souhaitez tester différentes valeurs, ajoutez-les ici\n",
    "    'vectorizer__stop_words': ['english']\n",
    "}\n",
    "\n",
    "# Création d'une pipeline pour combiner le vectorizer et le modèle\n",
    "pipeline = Pipeline([\n",
    "    ('vectorizer', TfidfVectorizer()),\n",
    "    ('model', LogisticRegression(max_iter=1000, class_weight='balanced'))\n",
    "])\n",
    "\n",
    "# Utilisation de GridSearchCV pour trouver les meilleurs paramètres\n",
    "grid_search = GridSearchCV(pipeline, param_grid, cv=5, n_jobs=-1, verbose=1)\n",
    "grid_search.fit(X_train, y_train)\n",
    "\n",
    "# Résultats\n",
    "print(f\"Meilleurs paramètres : {grid_search.best_params_}\")\n",
    "print(f\"Score de validation croisée pour les meilleurs paramètres : {grid_search.best_score_}\")\n",
    "\n",
    "# Évaluation sur l'ensemble de test\n",
    "test_score = grid_search.score(X_test, y_test)\n",
    "print(f\"Score sur l'ensemble de test : {test_score}\")\n"
   ]
  },
  {
   "attachments": {},
   "cell_type": "markdown",
   "metadata": {},
   "source": [
    "### ***observation:***\n",
    "\n",
    "Meilleurs paramètres : {'model__C': 1, 'model__penalty': 'l2', 'model__solver': 'liblinear', 'vectorizer__max_features': 10000, 'vectorizer__stop_words': 'english'}\n",
    "Score de validation croisée pour les meilleurs paramètres : 0.6094443517188625\n",
    "Score sur l'ensemble de test : 0.6262503049524274"
   ]
  },
  {
   "cell_type": "code",
   "execution_count": 22,
   "metadata": {},
   "outputs": [
    {
     "name": "stdout",
     "output_type": "stream",
     "text": [
      "                                               params  mean_test_score  \\\n",
      "10  {'model__C': 1, 'model__penalty': 'l2', 'model...         0.609444   \n",
      "6   {'model__C': 0.1, 'model__penalty': 'l2', 'mod...         0.602246   \n",
      "8   {'model__C': 1, 'model__penalty': 'l1', 'model...         0.594681   \n",
      "11  {'model__C': 1, 'model__penalty': 'l2', 'model...         0.591752   \n",
      "7   {'model__C': 0.1, 'model__penalty': 'l2', 'mod...         0.584798   \n",
      "14  {'model__C': 10, 'model__penalty': 'l2', 'mode...         0.582175   \n",
      "15  {'model__C': 10, 'model__penalty': 'l2', 'mode...         0.578026   \n",
      "13  {'model__C': 10, 'model__penalty': 'l1', 'mode...         0.562958   \n",
      "9   {'model__C': 1, 'model__penalty': 'l1', 'model...         0.561920   \n",
      "3   {'model__C': 0.01, 'model__penalty': 'l2', 'mo...         0.561311   \n",
      "19  {'model__C': 100, 'model__penalty': 'l2', 'mod...         0.556369   \n",
      "12  {'model__C': 10, 'model__penalty': 'l1', 'mode...         0.555820   \n",
      "18  {'model__C': 100, 'model__penalty': 'l2', 'mod...         0.550451   \n",
      "17  {'model__C': 100, 'model__penalty': 'l1', 'mod...         0.545937   \n",
      "4   {'model__C': 0.1, 'model__penalty': 'l1', 'mod...         0.538434   \n",
      "16  {'model__C': 100, 'model__penalty': 'l1', 'mod...         0.526049   \n",
      "5   {'model__C': 0.1, 'model__penalty': 'l1', 'mod...         0.500733   \n",
      "2   {'model__C': 0.01, 'model__penalty': 'l2', 'mo...         0.458943   \n",
      "0   {'model__C': 0.01, 'model__penalty': 'l1', 'mo...         0.443143   \n",
      "1   {'model__C': 0.01, 'model__penalty': 'l1', 'mo...         0.169774   \n",
      "\n",
      "    std_test_score  \n",
      "10        0.005997  \n",
      "6         0.010522  \n",
      "8         0.004333  \n",
      "11        0.002019  \n",
      "7         0.004647  \n",
      "14        0.003232  \n",
      "15        0.006699  \n",
      "13        0.005119  \n",
      "9         0.011976  \n",
      "3         0.006172  \n",
      "19        0.005467  \n",
      "12        0.005920  \n",
      "18        0.004018  \n",
      "17        0.003530  \n",
      "4         0.005585  \n",
      "16        0.006999  \n",
      "5         0.005398  \n",
      "2         0.002543  \n",
      "0         0.000113  \n",
      "1         0.100555  \n"
     ]
    }
   ],
   "source": [
    "# Afficher et trier les colonnes pertinentes\n",
    "results_df = pd.DataFrame(grid_search.cv_results_)\n",
    "columns_to_display = ['params', 'mean_test_score', 'std_test_score']\n",
    "results_df = results_df[columns_to_display]\n",
    "results_df = results_df.sort_values(by='mean_test_score', ascending=False)\n",
    "\n",
    "print(results_df)\n"
   ]
  },
  {
   "cell_type": "code",
   "execution_count": 23,
   "metadata": {},
   "outputs": [
    {
     "name": "stdout",
     "output_type": "stream",
     "text": [
      "Accuracy: 0.6248\n",
      "Classification Report:\n",
      "              precision    recall  f1-score   support\n",
      "\n",
      "           1       0.65      0.69      0.67       292\n",
      "           2       0.39      0.47      0.43       333\n",
      "           3       0.39      0.38      0.38       432\n",
      "           4       0.57      0.46      0.51      1252\n",
      "           5       0.74      0.82      0.78      1790\n",
      "\n",
      "    accuracy                           0.62      4099\n",
      "   macro avg       0.55      0.56      0.55      4099\n",
      "weighted avg       0.62      0.62      0.62      4099\n",
      "\n"
     ]
    }
   ],
   "source": [
    "# Meilleurs paramètres : {'model__C': 1, 'model__penalty': 'l2', 'model__solver': 'liblinear', 'vectorizer__max_features': 10000, 'vectorizer__stop_words': 'english'}\n",
    "dataset = pd.read_csv('cleaned_tripadvisor_reviews.csv', index_col=0)\n",
    "\n",
    "X = dataset['cleaned_text']\n",
    "y = dataset['Rating']\n",
    "X_train, X_test, y_train, y_test = train_test_split(X, y, test_size=0.2, random_state=42)\n",
    "\n",
    "    \n",
    "classifier = TextClassifier(model=LogisticRegression(max_iter=1000, class_weight='balanced', penalty='l2', C=1, solver='liblinear', ), vectorizer=TfidfVectorizer(max_features=5000, stop_words='english'))\n",
    "classifier.train(X_train, y_train)\n",
    "classifier.evaluate(X_test, y_test)"
   ]
  },
  {
   "attachments": {},
   "cell_type": "markdown",
   "metadata": {},
   "source": [
    "### ***observation:***\n",
    "\n",
    "Interesting to notice that we have been able to improve the accuracy but we can see that it cost us in quality in terms of recall. instead of that we will try to maximize the f1 score"
   ]
  },
  {
   "attachments": {},
   "cell_type": "markdown",
   "metadata": {},
   "source": [
    "# ***Hyperparameter tuning on different metrics***"
   ]
  },
  {
   "cell_type": "code",
   "execution_count": null,
   "metadata": {},
   "outputs": [],
   "source": [
    "# Séparation des données en ensembles d'entraînement et de test\n",
    "X = dataset['cleaned_text']\n",
    "y = dataset['Rating']\n",
    "X_train, X_test, y_train, y_test = train_test_split(X, y, test_size=0.2, random_state=42)\n",
    "\n",
    "# Paramètres pour GridSearchCV\n",
    "param_grid = {\n",
    "    'model__C': [ 0.1, 1, 10],\n",
    "    'model__penalty': ['l1', 'l2'],\n",
    "    'model__solver': ['newton-cg', 'lbfgs', 'liblinear', 'sag', 'saga'],\n",
    "    'model__multi_class': ['auto', 'ovr', 'multinomial'],\n",
    "    'model__max_iter': [100],\n",
    "    'model__fit_intercept': [True, False],\n",
    "    'vectorizer__max_features': [10000, 20000],\n",
    "    'vectorizer__stop_words': ['english']\n",
    "}\n",
    "\n",
    "# Création d'une pipeline pour combiner le vectorizer et le modèle\n",
    "pipeline = Pipeline([\n",
    "    ('vectorizer', TfidfVectorizer()),\n",
    "    ('model', LogisticRegression(max_iter=1000, class_weight='balanced'))\n",
    "])\n",
    "\n",
    "# Utilisation de GridSearchCV pour trouver les meilleurs paramètres\n",
    "def custom_f1_score_class_3(y_true, y_pred):\n",
    "    return f1_score(y_true, y_pred, labels=[3], average='weighted')\n",
    "scorer = make_scorer(custom_f1_score_class_3)\n",
    "grid_search = GridSearchCV(pipeline, param_grid, cv=4, n_jobs=-1, verbose=1, scoring=scorer)\n",
    "grid_search.fit(X_train, y_train)\n",
    "\n",
    "# Résultats\n",
    "print(f\"Meilleurs paramètres : {grid_search.best_params_}\")\n",
    "print(f\"Score de validation croisée pour les meilleurs paramètres : {grid_search.best_score_}\")\n",
    "\n",
    "# Évaluation sur l'ensemble de test\n",
    "test_score = grid_search.score(X_test, y_test)\n",
    "print(f\"Score sur l'ensemble de test : {test_score}\")"
   ]
  },
  {
   "cell_type": "code",
   "execution_count": 43,
   "metadata": {},
   "outputs": [
    {
     "name": "stdout",
     "output_type": "stream",
     "text": [
      "Accuracy: 0.6089\n",
      "Classification Report:\n",
      "              precision    recall  f1-score   support\n",
      "\n",
      "           1       0.74      0.59      0.65       292\n",
      "           2       0.38      0.56      0.45       333\n",
      "           3       0.37      0.42      0.39       432\n",
      "           4       0.55      0.48      0.51      1252\n",
      "           5       0.76      0.76      0.76      1790\n",
      "\n",
      "    accuracy                           0.61      4099\n",
      "   macro avg       0.56      0.56      0.55      4099\n",
      "weighted avg       0.62      0.61      0.61      4099\n",
      "\n"
     ]
    }
   ],
   "source": [
    "dataset = pd.read_csv('cleaned_tripadvisor_reviews.csv', index_col=0)\n",
    "\n",
    "X = dataset['cleaned_text']\n",
    "y = dataset['Rating']\n",
    "X_train, X_test, y_train, y_test = train_test_split(X, y, test_size=0.2, random_state=42)\n",
    "\n",
    "    \n",
    "classifier = TextClassifier(model=LogisticRegression(max_iter=100, class_weight='balanced', penalty='l2', C=0.1, multi_class='ovr',fit_intercept=False, solver='newton-cg'  ), vectorizer=TfidfVectorizer(max_features=20000, stop_words='english'))\n",
    "classifier.train(X_train, y_train)\n",
    "classifier.evaluate(X_test, y_test)"
   ]
  },
  {
   "attachments": {},
   "cell_type": "markdown",
   "metadata": {},
   "source": [
    "### ***observation:***\n",
    "\n",
    "after a lot of test with different metrics on my GridSearchCV I found nothing interesting or at least better than the basic model. I tried to optimized th f1 score but it just favoritize the class 5 to get a better f1 score so I even tried a personalised metric to optimize the f1 score but it reduce the quaity of the othrs class prediction for a small upgrade"
   ]
  },
  {
   "attachments": {},
   "cell_type": "markdown",
   "metadata": {},
   "source": [
    "# ***return to preprocessing***\n",
    "\n",
    "this part could have been added to the preprocessing pipeline but I was interested to see the importance that it could have on my model and if it could give some interesting insight to the model and get some upgrad. that's why I'm testing there."
   ]
  },
  {
   "attachments": {},
   "cell_type": "markdown",
   "metadata": {},
   "source": [
    "I thought about using bigram and trigram. it could give interesting results."
   ]
  },
  {
   "attachments": {},
   "cell_type": "markdown",
   "metadata": {},
   "source": [
    "# ***bigram and trigram***"
   ]
  },
  {
   "cell_type": "code",
   "execution_count": 70,
   "metadata": {},
   "outputs": [
    {
     "name": "stdout",
     "output_type": "stream",
     "text": [
      "                                              Review  Rating  \\\n",
      "0  nice hotel expensive parking got good deal sta...       4   \n",
      "1  ok nothing special charge diamond member hilto...       2   \n",
      "2  nice rooms not 4* experience hotel monaco seat...       3   \n",
      "3  unique, great stay, wonderful time hotel monac...       5   \n",
      "4  great stay great stay, went seahawk game aweso...       5   \n",
      "\n",
      "                                        cleaned_text sentiment  \n",
      "0  nice hotel expensive parking get good deal sta...  positive  \n",
      "1  ok nothing special charge diamond member hilto...  negative  \n",
      "2  nice room 4 experience hotel monaco seattle go...   neutral  \n",
      "3  unique great stay wonderful time hotel monaco ...  positive  \n",
      "4  great stay great stay go seahawk game awesome ...  positive  \n"
     ]
    }
   ],
   "source": [
    "from gensim.models.phrases import Phrases\n",
    "\n",
    "words = [review.split() for review in dataset['cleaned_text']]\n",
    "\n",
    "# Détecter et ajouter les bigrammes et trigrammes\n",
    "bigram = Phrases(words, min_count=10)\n",
    "trigram = Phrases(bigram[words])\n",
    "\n",
    "for idx in range(len(words)):\n",
    "    doc = words[idx]\n",
    "    \n",
    "    # Ajouter les bigrammes\n",
    "    bigrams = [token for token in bigram[doc] if '_' in token]\n",
    "    words[idx].extend(bigrams)\n",
    "    \n",
    "    # Ajouter les trigrammes\n",
    "    trigrams = [token for token in trigram[bigram[doc]] if '_' in token]\n",
    "    words[idx].extend(trigrams)\n",
    "\n",
    "# Remplacez la colonne cleaned_text par la version mise à jour\n",
    "dataset['cleaned_text'] = words\n",
    "\n",
    "# convertir les listes de mots de retour en chaînes :\n",
    "dataset['cleaned_text'] = [' '.join(doc) for doc in words]\n",
    "\n",
    "print(dataset.head())"
   ]
  },
  {
   "cell_type": "code",
   "execution_count": 71,
   "metadata": {},
   "outputs": [
    {
     "name": "stdout",
     "output_type": "stream",
     "text": [
      "Number of unique words in initial documents: 89224\n",
      "Number of unique words after removing rare and common words: 14365\n"
     ]
    }
   ],
   "source": [
    "from gensim.corpora import Dictionary\n",
    "\n",
    "# Créer un dictionnaire à partir des documents\n",
    "dictionary = Dictionary(words)\n",
    "print('Number of unique words in initial documents:', len(dictionary))\n",
    "\n",
    "# Filtrer les mots qui apparaissent dans moins de 10 documents ou dans plus de 30% des documents\n",
    "dictionary.filter_extremes(no_below=10, no_above=0.4)\n",
    "print('Number of unique words after removing rare and common words:', len(dictionary))"
   ]
  },
  {
   "cell_type": "code",
   "execution_count": 59,
   "metadata": {},
   "outputs": [
    {
     "name": "stderr",
     "output_type": "stream",
     "text": [
      "/Users/delaygues/opt/anaconda3/lib/python3.8/site-packages/sklearn/linear_model/_logistic.py:458: ConvergenceWarning: lbfgs failed to converge (status=1):\n",
      "STOP: TOTAL NO. of ITERATIONS REACHED LIMIT.\n",
      "\n",
      "Increase the number of iterations (max_iter) or scale the data as shown in:\n",
      "    https://scikit-learn.org/stable/modules/preprocessing.html\n",
      "Please also refer to the documentation for alternative solver options:\n",
      "    https://scikit-learn.org/stable/modules/linear_model.html#logistic-regression\n",
      "  n_iter_i = _check_optimize_result(\n"
     ]
    },
    {
     "name": "stdout",
     "output_type": "stream",
     "text": [
      "Accuracy: 0.5962\n",
      "Classification Report:\n",
      "              precision    recall  f1-score   support\n",
      "\n",
      "           1       0.66      0.68      0.67       292\n",
      "           2       0.38      0.47      0.42       333\n",
      "           3       0.33      0.39      0.36       432\n",
      "           4       0.53      0.46      0.49      1252\n",
      "           5       0.75      0.75      0.75      1790\n",
      "\n",
      "    accuracy                           0.60      4099\n",
      "   macro avg       0.53      0.55      0.54      4099\n",
      "weighted avg       0.60      0.60      0.60      4099\n",
      "\n"
     ]
    }
   ],
   "source": [
    "X = dataset['cleaned_text']\n",
    "y = dataset['Rating']\n",
    "X_train, X_test, y_train, y_test = train_test_split(X, y, test_size=0.2, random_state=42)\n",
    "\n",
    "    \n",
    "classifier = TextClassifier(model=LogisticRegression(max_iter=100, class_weight='balanced'  ), vectorizer=TfidfVectorizer(max_features=20000, stop_words='english'))\n",
    "classifier.train(X_train, y_train)\n",
    "classifier.evaluate(X_test, y_test)"
   ]
  },
  {
   "attachments": {},
   "cell_type": "markdown",
   "metadata": {},
   "source": [
    "### ***observation:***\n",
    "\n",
    "It does not helps the model... it is even worse than the basic model. I will not use it"
   ]
  },
  {
   "attachments": {},
   "cell_type": "markdown",
   "metadata": {},
   "source": [
    "# ***re mapping the prediction***\n",
    "\n",
    "re map 1,2,3,4,5 to negative, neutral, positive\n"
   ]
  },
  {
   "cell_type": "code",
   "execution_count": 21,
   "metadata": {},
   "outputs": [],
   "source": [
    "dataset = pd.read_csv('data/cleaned_tripadvisor_reviews.csv', index_col=0)\n",
    "mapping = {1: 'negative', 2: 'negative', 3: 'negative', 4: 'good', 5: 'excellent'}\n",
    "dataset['sentiment'] = dataset['Rating'].map(mapping)"
   ]
  },
  {
   "cell_type": "code",
   "execution_count": 22,
   "metadata": {},
   "outputs": [
    {
     "name": "stdout",
     "output_type": "stream",
     "text": [
      "Accuracy: 0.7146\n",
      "Classification Report:\n",
      "              precision    recall  f1-score   support\n",
      "\n",
      "   excellent       0.75      0.82      0.78      1790\n",
      "        good       0.58      0.47      0.52      1252\n",
      "    negative       0.77      0.83      0.80      1057\n",
      "\n",
      "    accuracy                           0.71      4099\n",
      "   macro avg       0.70      0.71      0.70      4099\n",
      "weighted avg       0.70      0.71      0.71      4099\n",
      "\n"
     ]
    }
   ],
   "source": [
    "X = dataset['cleaned_text']\n",
    "y = dataset['sentiment']\n",
    "X_train, X_test, y_train, y_test = train_test_split(X, y, test_size=0.2, random_state=42)\n",
    "\n",
    "    \n",
    "classifier = TextClassifier(model=LogisticRegression(max_iter=100, class_weight='balanced', penalty='l2', C=1, solver='liblinear', ), vectorizer=TfidfVectorizer(max_features=5000, stop_words='english'))\n",
    "classifier.train(X_train, y_train)\n",
    "classifier.evaluate(X_test, y_test)\n"
   ]
  },
  {
   "attachments": {},
   "cell_type": "markdown",
   "metadata": {},
   "source": [
    "### ***observation:***\n",
    "\n",
    "this clearly improved the Accuracy of the model and f1 score for positive and negative but what wwe should focus on is the fact that it still does not imrpoved the recall of the neutral class. it is still underfitted and we will try to improve it"
   ]
  },
  {
   "attachments": {},
   "cell_type": "markdown",
   "metadata": {},
   "source": [
    "I will use oversampling methods with SMOTE to try to improve the recall of the neutral class"
   ]
  },
  {
   "attachments": {},
   "cell_type": "markdown",
   "metadata": {},
   "source": [
    "# ***Oversampling***"
   ]
  },
  {
   "cell_type": "code",
   "execution_count": 98,
   "metadata": {},
   "outputs": [
    {
     "name": "stdout",
     "output_type": "stream",
     "text": [
      "Accuracy: 0.8204\n",
      "Classification Report:\n",
      "              precision    recall  f1-score   support\n",
      "\n",
      "    negative       0.71      0.78      0.74       625\n",
      "     neutral       0.35      0.48      0.40       432\n",
      "    positive       0.95      0.88      0.91      3042\n",
      "\n",
      "    accuracy                           0.82      4099\n",
      "   macro avg       0.67      0.71      0.69      4099\n",
      "weighted avg       0.85      0.82      0.83      4099\n",
      "\n"
     ]
    }
   ],
   "source": [
    "from imblearn.over_sampling import SMOTE\n",
    "from sklearn.metrics import classification_report\n",
    "\n",
    "dataset = pd.read_csv('cleaned_tripadvisor_reviews.csv', index_col=0)\n",
    "mapping = {1: 'negative', 2: 'negative', 3: 'neutral', 4: 'positive', 5: 'positive'}\n",
    "dataset['sentiment'] = dataset['Rating'].map(mapping)\n",
    "\n",
    "X = dataset['cleaned_text']\n",
    "y = dataset['sentiment']\n",
    "X_train, X_test, y_train, y_test = train_test_split(X, y, test_size=0.2, random_state=42)\n",
    "\n",
    "# Vectorisation\n",
    "vectorizer = TfidfVectorizer(max_features=5000, stop_words='english')\n",
    "X_train_vec = vectorizer.fit_transform(X_train)\n",
    "X_test_vec = vectorizer.transform(X_test)\n",
    "\n",
    "# Application de SMOTE\n",
    "smote = SMOTE()\n",
    "X_train_resampled, y_train_resampled = smote.fit_resample(X_train_vec, y_train)\n",
    "\n",
    "# Création et entraînement du modèle\n",
    "model = LogisticRegression(max_iter=1000, penalty='l2', C=1, solver='liblinear')\n",
    "model.fit(X_train_resampled, y_train_resampled)\n",
    "\n",
    "# Évaluation\n",
    "y_pred = model.predict(X_test_vec)\n",
    "accuracy = accuracy_score(y_test, y_pred)\n",
    "print(f\"Accuracy: {accuracy:.4f}\")\n",
    "print(\"Classification Report:\")\n",
    "print(classification_report(y_test, y_pred))\n"
   ]
  },
  {
   "attachments": {},
   "cell_type": "markdown",
   "metadata": {},
   "source": [
    "### ***observation:***\n",
    "\n",
    "The recall is better in class neutral but we lost a lot of accuracy. it seems to be the trade off that we have to do. The Model is just probably missing datas in the neutral class and it leads to incorrect prediction."
   ]
  }
 ],
 "metadata": {
  "kernelspec": {
   "display_name": "base",
   "language": "python",
   "name": "python3"
  },
  "language_info": {
   "codemirror_mode": {
    "name": "ipython",
    "version": 3
   },
   "file_extension": ".py",
   "mimetype": "text/x-python",
   "name": "python",
   "nbconvert_exporter": "python",
   "pygments_lexer": "ipython3",
   "version": "3.8.8"
  },
  "orig_nbformat": 4
 },
 "nbformat": 4,
 "nbformat_minor": 2
}
