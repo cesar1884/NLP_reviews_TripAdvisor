{
 "cells": [
  {
   "attachments": {},
   "cell_type": "markdown",
   "metadata": {},
   "source": [
    "## This cell is used to add the parent directory to the path so that the modules can be imported in the notebook. Run this cell only once"
   ]
  },
  {
   "cell_type": "code",
   "execution_count": 1,
   "metadata": {},
   "outputs": [],
   "source": [
    "import os\n",
    "import sys\n",
    "os.chdir('..')\n",
    "\n",
    "if os.getcwd() not in sys.path:\n",
    "    sys.path.append(os.getcwd())"
   ]
  },
  {
   "cell_type": "code",
   "execution_count": 2,
   "metadata": {},
   "outputs": [],
   "source": [
    "import pandas as pd\n",
    "import numpy as np\n",
    "import matplotlib.pyplot as plt\n",
    "import seaborn as sns\n",
    "\n",
    "\n",
    "from scripts.text_classifier import TextClassifier\n",
    "from sklearn.model_selection import train_test_split\n",
    "from sklearn.feature_extraction.text import TfidfVectorizer, CountVectorizer\n",
    "from sklearn.metrics import accuracy_score, make_scorer, f1_score, confusion_matrix\n",
    "\n",
    "from sklearn.model_selection import GridSearchCV\n",
    "from sklearn.pipeline import Pipeline\n",
    "from sklearn.linear_model import LogisticRegression\n",
    "from sklearn.tree import DecisionTreeClassifier\n",
    "from sklearn.ensemble import RandomForestClassifier\n",
    "from sklearn.neighbors import KNeighborsClassifier\n",
    "from sklearn.naive_bayes import MultinomialNB\n",
    "import xgboost as xgb\n",
    "from sklearn.utils import class_weight\n",
    "\n",
    "\n"
   ]
  },
  {
   "cell_type": "code",
   "execution_count": 3,
   "metadata": {},
   "outputs": [],
   "source": [
    "dataset = pd.read_csv('data/cleaned_tripadvisor_reviews.csv', index_col=0)\n"
   ]
  },
  {
   "attachments": {},
   "cell_type": "markdown",
   "metadata": {},
   "source": [
    "# ***How to Improve Our Model ?***\n",
    "\n",
    "To enhance the performance of our sentiment analysis model, we explore 5 different algorithms using 2 different vectorization techniques. The goal is to compare their results and identify the most promising model.\n"
   ]
  },
  {
   "cell_type": "code",
   "execution_count": 4,
   "metadata": {},
   "outputs": [
    {
     "name": "stdout",
     "output_type": "stream",
     "text": [
      "Evaluating model: Logistic Regression\n",
      "------------------------------\n"
     ]
    },
    {
     "name": "stderr",
     "output_type": "stream",
     "text": [
      "/Users/delaygues/opt/anaconda3/lib/python3.8/site-packages/sklearn/linear_model/_logistic.py:458: ConvergenceWarning: lbfgs failed to converge (status=1):\n",
      "STOP: TOTAL NO. of ITERATIONS REACHED LIMIT.\n",
      "\n",
      "Increase the number of iterations (max_iter) or scale the data as shown in:\n",
      "    https://scikit-learn.org/stable/modules/preprocessing.html\n",
      "Please also refer to the documentation for alternative solver options:\n",
      "    https://scikit-learn.org/stable/modules/linear_model.html#logistic-regression\n",
      "  n_iter_i = _check_optimize_result(\n"
     ]
    },
    {
     "name": "stdout",
     "output_type": "stream",
     "text": [
      "Accuracy: 0.6309\n",
      "Classification Report:\n",
      "              precision    recall  f1-score   support\n",
      "\n",
      "           1       0.75      0.62      0.68       292\n",
      "           2       0.45      0.38      0.41       333\n",
      "           3       0.44      0.24      0.31       432\n",
      "           4       0.55      0.51      0.53      1252\n",
      "           5       0.70      0.86      0.77      1790\n",
      "\n",
      "    accuracy                           0.63      4099\n",
      "   macro avg       0.58      0.52      0.54      4099\n",
      "weighted avg       0.61      0.63      0.61      4099\n",
      "\n",
      "\n",
      "\n",
      "\n",
      "Evaluating model: Decision Tree\n",
      "------------------------------\n",
      "Accuracy: 0.4518\n",
      "Classification Report:\n",
      "              precision    recall  f1-score   support\n",
      "\n",
      "           1       0.44      0.37      0.40       292\n",
      "           2       0.22      0.22      0.22       333\n",
      "           3       0.21      0.22      0.22       432\n",
      "           4       0.37      0.35      0.36      1252\n",
      "           5       0.59      0.64      0.61      1790\n",
      "\n",
      "    accuracy                           0.45      4099\n",
      "   macro avg       0.37      0.36      0.36      4099\n",
      "weighted avg       0.45      0.45      0.45      4099\n",
      "\n",
      "\n",
      "\n",
      "\n",
      "Evaluating model: Random Forest\n",
      "------------------------------\n",
      "Accuracy: 0.5433\n",
      "Classification Report:\n",
      "              precision    recall  f1-score   support\n",
      "\n",
      "           1       0.77      0.45      0.57       292\n",
      "           2       0.44      0.07      0.11       333\n",
      "           3       0.60      0.03      0.07       432\n",
      "           4       0.43      0.31      0.36      1252\n",
      "           5       0.57      0.93      0.70      1790\n",
      "\n",
      "    accuracy                           0.54      4099\n",
      "   macro avg       0.56      0.36      0.36      4099\n",
      "weighted avg       0.53      0.54      0.48      4099\n",
      "\n",
      "\n",
      "\n",
      "\n",
      "Evaluating model: K-Nearest Neighbors\n",
      "------------------------------\n",
      "Accuracy: 0.4921\n",
      "Classification Report:\n",
      "              precision    recall  f1-score   support\n",
      "\n",
      "           1       0.52      0.38      0.44       292\n",
      "           2       0.27      0.17      0.21       333\n",
      "           3       0.25      0.15      0.19       432\n",
      "           4       0.40      0.42      0.41      1252\n",
      "           5       0.60      0.70      0.65      1790\n",
      "\n",
      "    accuracy                           0.49      4099\n",
      "   macro avg       0.41      0.37      0.38      4099\n",
      "weighted avg       0.47      0.49      0.48      4099\n",
      "\n",
      "\n",
      "\n",
      "\n",
      "Evaluating model: Naive Bayes\n",
      "------------------------------\n",
      "Accuracy: 0.5479\n",
      "Classification Report:\n",
      "              precision    recall  f1-score   support\n",
      "\n",
      "           1       0.89      0.35      0.50       292\n",
      "           2       0.39      0.17      0.24       333\n",
      "           3       0.25      0.01      0.02       432\n",
      "           4       0.40      0.35      0.37      1252\n",
      "           5       0.61      0.92      0.73      1790\n",
      "\n",
      "    accuracy                           0.55      4099\n",
      "   macro avg       0.51      0.36      0.37      4099\n",
      "weighted avg       0.51      0.55      0.49      4099\n",
      "\n",
      "\n",
      "\n",
      "\n"
     ]
    }
   ],
   "source": [
    "from sklearn.linear_model import LogisticRegression\n",
    "from sklearn.tree import DecisionTreeClassifier\n",
    "from sklearn.ensemble import RandomForestClassifier\n",
    "from sklearn.neighbors import KNeighborsClassifier\n",
    "from sklearn.naive_bayes import MultinomialNB\n",
    "\n",
    "X = dataset['cleaned_text']\n",
    "y = dataset['Rating']\n",
    "X_train, X_test, y_train, y_test = train_test_split(X, y, test_size=0.2, random_state=42)\n",
    "\n",
    "# Liste des modèles à évaluer\n",
    "models = {\n",
    "    \"Logistic Regression\": LogisticRegression(),\n",
    "    \"Decision Tree\": DecisionTreeClassifier(),\n",
    "    \"Random Forest\": RandomForestClassifier(),\n",
    "    \"K-Nearest Neighbors\": KNeighborsClassifier(),\n",
    "    \"Naive Bayes\": MultinomialNB()\n",
    "}\n",
    "\n",
    "\n",
    "for name, model in models.items():\n",
    "    print(f\"Evaluating model: {name}\\n\" + \"-\" * 30)\n",
    "    \n",
    "    classifier = TextClassifier(model=model, vectorizer = TfidfVectorizer(max_features=5000, stop_words='english'))\n",
    "    classifier.train(X_train, y_train)\n",
    "    classifier.evaluate(X_test, y_test)\n",
    "    \n",
    "    print(\"\\n\\n\")\n"
   ]
  },
  {
   "attachments": {},
   "cell_type": "markdown",
   "metadata": {},
   "source": [
    "### ***Observation:***\n",
    "\n",
    "Based on the results with Tfidf vectorizer, it is evident that Logistic Regression outperforms other models in terms of accuracy. The Naive Bayes model, while having a similar accuracy, shows signs of underfitting as it tends to classify everything into the classes with the most data.\n"
   ]
  },
  {
   "attachments": {},
   "cell_type": "markdown",
   "metadata": {},
   "source": [
    "### same with CountVectorizer:"
   ]
  },
  {
   "cell_type": "code",
   "execution_count": 6,
   "metadata": {},
   "outputs": [
    {
     "name": "stdout",
     "output_type": "stream",
     "text": [
      "Evaluating model: Logistic Regression\n",
      "------------------------------\n"
     ]
    },
    {
     "name": "stderr",
     "output_type": "stream",
     "text": [
      "/Users/delaygues/opt/anaconda3/lib/python3.8/site-packages/sklearn/linear_model/_logistic.py:458: ConvergenceWarning: lbfgs failed to converge (status=1):\n",
      "STOP: TOTAL NO. of ITERATIONS REACHED LIMIT.\n",
      "\n",
      "Increase the number of iterations (max_iter) or scale the data as shown in:\n",
      "    https://scikit-learn.org/stable/modules/preprocessing.html\n",
      "Please also refer to the documentation for alternative solver options:\n",
      "    https://scikit-learn.org/stable/modules/linear_model.html#logistic-regression\n",
      "  n_iter_i = _check_optimize_result(\n"
     ]
    },
    {
     "name": "stdout",
     "output_type": "stream",
     "text": [
      "Accuracy: 0.5862\n",
      "Classification Report:\n",
      "              precision    recall  f1-score   support\n",
      "\n",
      "           1       0.66      0.57      0.61       292\n",
      "           2       0.38      0.41      0.40       333\n",
      "           3       0.35      0.32      0.34       432\n",
      "           4       0.50      0.44      0.47      1252\n",
      "           5       0.71      0.79      0.74      1790\n",
      "\n",
      "    accuracy                           0.59      4099\n",
      "   macro avg       0.52      0.51      0.51      4099\n",
      "weighted avg       0.58      0.59      0.58      4099\n",
      "\n",
      "\n",
      "\n",
      "\n",
      "Evaluating model: Decision Tree\n",
      "------------------------------\n",
      "Accuracy: 0.4538\n",
      "Classification Report:\n",
      "              precision    recall  f1-score   support\n",
      "\n",
      "           1       0.47      0.38      0.42       292\n",
      "           2       0.20      0.19      0.19       333\n",
      "           3       0.21      0.19      0.20       432\n",
      "           4       0.39      0.38      0.38      1252\n",
      "           5       0.59      0.63      0.61      1790\n",
      "\n",
      "    accuracy                           0.45      4099\n",
      "   macro avg       0.37      0.35      0.36      4099\n",
      "weighted avg       0.45      0.45      0.45      4099\n",
      "\n",
      "\n",
      "\n",
      "\n",
      "Evaluating model: Random Forest\n",
      "------------------------------\n",
      "Accuracy: 0.5387\n",
      "Classification Report:\n",
      "              precision    recall  f1-score   support\n",
      "\n",
      "           1       0.72      0.46      0.56       292\n",
      "           2       0.40      0.05      0.09       333\n",
      "           3       0.50      0.04      0.08       432\n",
      "           4       0.42      0.33      0.37      1252\n",
      "           5       0.57      0.91      0.70      1790\n",
      "\n",
      "    accuracy                           0.54      4099\n",
      "   macro avg       0.52      0.36      0.36      4099\n",
      "weighted avg       0.51      0.54      0.47      4099\n",
      "\n",
      "\n",
      "\n",
      "\n",
      "Evaluating model: K-Nearest Neighbors\n",
      "------------------------------\n",
      "Accuracy: 0.4525\n",
      "Classification Report:\n",
      "              precision    recall  f1-score   support\n",
      "\n",
      "           1       0.38      0.25      0.30       292\n",
      "           2       0.30      0.09      0.14       333\n",
      "           3       0.23      0.15      0.18       432\n",
      "           4       0.37      0.39      0.38      1252\n",
      "           5       0.55      0.67      0.60      1790\n",
      "\n",
      "    accuracy                           0.45      4099\n",
      "   macro avg       0.36      0.31      0.32      4099\n",
      "weighted avg       0.43      0.45      0.43      4099\n",
      "\n",
      "\n",
      "\n",
      "\n",
      "Evaluating model: Naive Bayes\n",
      "------------------------------\n",
      "Accuracy: 0.6050\n",
      "Classification Report:\n",
      "              precision    recall  f1-score   support\n",
      "\n",
      "           1       0.68      0.62      0.65       292\n",
      "           2       0.38      0.46      0.42       333\n",
      "           3       0.37      0.35      0.36       432\n",
      "           4       0.54      0.43      0.48      1252\n",
      "           5       0.71      0.82      0.76      1790\n",
      "\n",
      "    accuracy                           0.61      4099\n",
      "   macro avg       0.54      0.53      0.53      4099\n",
      "weighted avg       0.60      0.61      0.60      4099\n",
      "\n",
      "\n",
      "\n",
      "\n"
     ]
    }
   ],
   "source": [
    "X = dataset['cleaned_text']\n",
    "y = dataset['Rating']\n",
    "X_train, X_test, y_train, y_test = train_test_split(X, y, test_size=0.2, random_state=42)\n",
    "\n",
    "# Liste des modèles à évaluer\n",
    "models = {\n",
    "    \"Logistic Regression\": LogisticRegression(),\n",
    "    \"Decision Tree\": DecisionTreeClassifier(),\n",
    "    \"Random Forest\": RandomForestClassifier(),\n",
    "    \"K-Nearest Neighbors\": KNeighborsClassifier(),\n",
    "    \"Naive Bayes\": MultinomialNB()\n",
    "}\n",
    "\n",
    "\n",
    "for name, model in models.items():\n",
    "    print(f\"Evaluating model: {name}\\n\" + \"-\" * 30)\n",
    "    \n",
    "    classifier = TextClassifier(model=model, vectorizer= CountVectorizer(max_features=5000, stop_words='english'))\n",
    "    classifier.train(X_train, y_train)\n",
    "    classifier.evaluate(X_test, y_test)\n",
    "    \n",
    "    print(\"\\n\\n\")"
   ]
  },
  {
   "attachments": {},
   "cell_type": "markdown",
   "metadata": {},
   "source": [
    "### ***observation:***\n",
    "\n",
    "based on the result of the 2 different loop we have 2 possibilites that are really close to each other: \n",
    "- Naive Bayes with the Count vectorizer\n",
    "- Logistic Regression with TFIDF\n",
    "we may focus on 1 one them but the others are eliminated of our process"
   ]
  },
  {
   "attachments": {},
   "cell_type": "markdown",
   "metadata": {},
   "source": [
    "# ***Class Weight***\n",
    "\n",
    "While exploring the data, we observed a significant imbalance among the classes. Classes 5 and 4 dominate, constituting the majority of the dataset. Our baseline model exhibits a low recall for classes 2 and 3, indicating its struggle to correctly identify instances of these classes. This suggests that the model is underfit and faces difficulty in detecting all five classes. \n",
    "\n",
    "To address this issue, we are considering strategies such as adjusting class weights or implementing oversampling, given the limited amount of data available for this specific task"
   ]
  },
  {
   "attachments": {},
   "cell_type": "markdown",
   "metadata": {},
   "source": [
    "I will whoose to focus on Logistic regression as it's easy to implement class weight on this model and we will see if we are able to improve the baseline results"
   ]
  },
  {
   "cell_type": "code",
   "execution_count": 18,
   "metadata": {},
   "outputs": [
    {
     "name": "stdout",
     "output_type": "stream",
     "text": [
      "Accuracy: 0.6094\n",
      "Classification Report:\n",
      "              precision    recall  f1-score   support\n",
      "\n",
      "           1       0.65      0.70      0.67       292\n",
      "           2       0.38      0.48      0.43       333\n",
      "           3       0.36      0.44      0.39       432\n",
      "           4       0.55      0.48      0.52      1252\n",
      "           5       0.77      0.75      0.76      1790\n",
      "\n",
      "    accuracy                           0.61      4099\n",
      "   macro avg       0.54      0.57      0.55      4099\n",
      "weighted avg       0.62      0.61      0.61      4099\n",
      "\n"
     ]
    }
   ],
   "source": [
    "X = dataset['cleaned_text']\n",
    "y = dataset['Rating']\n",
    "X_train, X_test, y_train, y_test = train_test_split(X, y, test_size=0.2, random_state=42)\n",
    "\n",
    "\n",
    "classifier = TextClassifier(model=LogisticRegression(max_iter=1000, class_weight='balanced'), vectorizer=TfidfVectorizer(max_features=5000, stop_words='english'))\n",
    "classifier.train(X_train, y_train)\n",
    "classifier.evaluate(X_test, y_test)"
   ]
  },
  {
   "attachments": {},
   "cell_type": "markdown",
   "metadata": {},
   "source": [
    "## Summary of Class Weight Experimentation\n",
    "\n",
    "- **Baseline Model:**\n",
    "  - Accuracy: 0.63\n",
    "  - Recall for Class 2: 0.38\n",
    "  - Recall for Class 3: 0.25\n",
    "\n",
    "- **Model with Class Weights:**\n",
    "  - Accuracy: 0.61 (3% decrease)\n",
    "  - Recall for Class 2: 0.48 (26% improvement)\n",
    "  - Recall for Class 3: 0.44 (76% improvement)\n",
    "\n",
    "The use of class weights resulted in a modest 3% decrease in overall accuracy. However, there were significant improvements in recall for Class 2 (26% increase) and Class 3 (76% increase). These findings suggest that incorporating class weights may enhance the model's ability to correctly identify instances of these specific classes, even at the expense of a slight reduction in overall accuracy.\n"
   ]
  },
  {
   "cell_type": "code",
   "execution_count": 23,
   "metadata": {},
   "outputs": [
    {
     "data": {
      "text/plain": [
       "<Axes: >"
      ]
     },
     "execution_count": 23,
     "metadata": {},
     "output_type": "execute_result"
    },
    {
     "data": {
      "image/png": "[encoded data removed]",
      "text/plain": [
       "<Figure size 640x480 with 1 Axes>"
      ]
     },
     "metadata": {},
     "output_type": "display_data"
    }
   ],
   "source": [
    "y_pred = classifier.predict(X_test)\n",
    "cm = confusion_matrix(y_test, y_pred)\n",
    "cm_normalized = cm.astype('float') / cm.sum(axis=1)[:, np.newaxis]\n",
    "plt.xlabel(\"Predicted labels\")\n",
    "plt.ylabel(\"True labels\")\n",
    "sns.heatmap(cm_normalized, annot=True, color='blue', cmap='Blues', cbar=False, )"
   ]
  },
  {
   "attachments": {},
   "cell_type": "markdown",
   "metadata": {},
   "source": [
    "## Summary of Class Weight Experimentation\n",
    "\n",
    "- **Confusion Matrix:**\n",
    "\n",
    "- Once Again the model tends to make mistake on similar classes, it is not doing big mistakes.\n",
    "- 27% of rate 2 are predicted as rate 3 **(Carefull! 0 on the Cm is 1 as rate)** as well as 19% of rate 1 are predicted as rate 0 it too much \n",
    "- Same probleme for True Rate 2 \n",
    "\n",
    "Finally I notice that for every class the model is doing between 20% and 30% of mistake with the class before and after. As Labels 1 and 5 are at the extremity of the scale, it can't make prediction above 5 and below 1 so it explains that we have better result. The model has only one side to make mistake."
   ]
  },
  {
   "attachments": {},
   "cell_type": "markdown",
   "metadata": {},
   "source": [
    "# ***Trying to use Xgboost model***\n",
    "\n",
    "In purpose to enhance model performance, I'm exploring the application of XGBoost—a powerful algorithm that often gave me good results in various projects. This decision is motivated by the complexity of the current task and XGBoost's historical effectiveness in similar contexts.\n"
   ]
  },
  {
   "cell_type": "code",
   "execution_count": 5,
   "metadata": {},
   "outputs": [
    {
     "name": "stdout",
     "output_type": "stream",
     "text": [
      "Accuracy: 0.6031\n",
      "Classification Report:\n",
      "              precision    recall  f1-score   support\n",
      "\n",
      "           0       0.75      0.52      0.62       292\n",
      "           1       0.41      0.36      0.39       333\n",
      "           2       0.45      0.16      0.23       432\n",
      "           3       0.51      0.50      0.50      1252\n",
      "           4       0.68      0.84      0.75      1790\n",
      "\n",
      "    accuracy                           0.60      4099\n",
      "   macro avg       0.56      0.48      0.50      4099\n",
      "weighted avg       0.59      0.60      0.58      4099\n",
      "\n"
     ]
    }
   ],
   "source": [
    "from sklearn.utils import class_weight\n",
    "\n",
    "X = dataset['cleaned_text']\n",
    "y = dataset['Rating']\n",
    "# xgboost need a class that start from 0\n",
    "y = y - 1\n",
    "X_train, X_test, y_train, y_test = train_test_split(X, y, test_size=0.2, random_state=42)\n",
    "\n",
    "sample_weights = class_weight.compute_sample_weight(class_weight='balanced', y=y_train)\n",
    "weight_dict = dict(enumerate(sample_weights))\n",
    "sample_weights = y_train.map(weight_dict).values\n",
    "\n",
    "classifier = TextClassifier(model=xgb.XGBClassifier(), vectorizer=CountVectorizer(max_features=5000, stop_words='english'))\n",
    "classifier.train(X_train, y_train, sample_weight=sample_weights)\n",
    "classifier.evaluate(X_test, y_test)"
   ]
  },
  {
   "attachments": {},
   "cell_type": "markdown",
   "metadata": {},
   "source": [
    "### ***Observation:***\n",
    "\n",
    "## Comparison with Logistic Regression (Class Weighted)\n",
    "\n",
    "After applying XGBoost with class weights, here is a comparison with the previous class-weighted model:\n",
    "\n",
    "- **Accuracy:** 0.6031 (similar)\n",
    "- **Recall for Class 2:** 0.48 (similar)\n",
    "- **Recall for Class 3:** 0.16 (64% decrease)\n",
    "\n",
    "These results Highlights a big decrease in recall for Class 3. This is a significant issue as it is the class with the least amount of data. This suggests that XGBoost is not the best model for this task. \n",
    "\n",
    "# ***Further investigation***\n",
    "\n",
    "this model may just need some tuning, an other vectorizer or to remove class weigh or others... I'm not saying that Logistic Regression is for sure the best model but actually I'm more confident to continue working on it than XGBoost. I tried to remove class weight and also tried Tfidf, result where not better but some others things may improve the model significantly.\n"
   ]
  },
  {
   "attachments": {},
   "cell_type": "markdown",
   "metadata": {},
   "source": [
    "# ***Focus on Logistic Regression with class_weight='balanced'***\n",
    "\n",
    "Given the current performance metrics, Logistic Regression with balanced class weights is the most promising model. Therefore, we wil start an in-depth exploration and refinement of this model. \n",
    "\n",
    "we will follow the following steps:\n",
    "- **Step 1:** Tune the hyperparameters of the model\n",
    "- **Step 2:** Return to Preprocessing with Bigrams and Trigrams\n",
    "- **Step 4:** resample the data\n"
   ]
  },
  {
   "cell_type": "code",
   "execution_count": 17,
   "metadata": {},
   "outputs": [
    {
     "data": {
      "image/png": "[encoded data removed]",
      "text/plain": [
       "<Figure size 640x480 with 1 Axes>"
      ]
     },
     "metadata": {},
     "output_type": "display_data"
    }
   ],
   "source": [
    "X = dataset['cleaned_text']\n",
    "y = dataset['Rating']\n",
    "X_train, X_test, y_train, y_test = train_test_split(X, y, test_size=0.2, random_state=42)\n",
    "\n",
    "# Initialisations\n",
    "train_sizes = [int(len(X_train) * x) for x in np.linspace(0.1, 1.0, 10)]\n",
    "train_scores = []\n",
    "validation_scores = []\n",
    "\n",
    "# Boucle sur chaque taille de sous-ensemble\n",
    "for size in train_sizes:\n",
    "    # Créer le sous-ensemble de données\n",
    "    subset_X_train, subset_y_train = X_train[:size], y_train[:size]\n",
    "    \n",
    "    # Créer le classifier\n",
    "    classifier = TextClassifier(\n",
    "        model=LogisticRegression(max_iter=1000, class_weight='balanced'),\n",
    "        vectorizer=TfidfVectorizer(max_features=5000, stop_words='english')\n",
    "        )\n",
    "    \n",
    "    classifier.train(subset_X_train, subset_y_train)\n",
    "    \n",
    "    # Évaluer sur le sous-ensemble d'apprentissage et l'ensemble de validation\n",
    "    y_train_pred = classifier.predict(subset_X_train)\n",
    "    y_val_pred = classifier.predict(X_test)\n",
    "    \n",
    "    train_accuracy = accuracy_score(subset_y_train, y_train_pred)\n",
    "    validation_accuracy = accuracy_score(y_test, y_val_pred)\n",
    "    \n",
    "    train_scores.append(train_accuracy)\n",
    "    validation_scores.append(validation_accuracy)\n",
    "\n",
    "# Visualiser les résultats\n",
    "plt.plot(train_sizes, train_scores, label=\"Training accuracy\")\n",
    "plt.plot(train_sizes, validation_scores, label=\"Validation accuracy\")\n",
    "plt.xlabel(\"Number of training examples\")\n",
    "plt.ylabel(\"Accuracy\")\n",
    "plt.legend()\n",
    "plt.title(\"Learning Curves\")\n",
    "plt.show()\n"
   ]
  },
  {
   "attachments": {},
   "cell_type": "markdown",
   "metadata": {},
   "source": [
    "### ***Observation:***\n",
    "\n",
    "The difference between the 2 curves is important. It show that our model is clealy overfitting and the quantity of data reduce a bit this issue. However, the validation curves is improving really slowly and we can suppose that the model may improve by adding a lot of datas specially in the class 1 2 and 3"
   ]
  },
  {
   "attachments": {},
   "cell_type": "markdown",
   "metadata": {},
   "source": [
    "# ***Hyperparameter tuning***"
   ]
  },
  {
   "cell_type": "code",
   "execution_count": null,
   "metadata": {},
   "outputs": [],
   "source": [
    "X = dataset['cleaned_text']\n",
    "y = dataset['Rating']\n",
    "X_train, X_test, y_train, y_test = train_test_split(X, y, test_size=0.2, random_state=42)\n",
    "\n",
    "# Paramètres pour GridSearchCV\n",
    "param_grid = {\n",
    "    'model__C': [0.01, 0.1, 1, 10, 100],\n",
    "    'model__penalty': ['l1', 'l2'],\n",
    "    'model__solver': ['liblinear', 'saga'],\n",
    "    'vectorizer__max_features': [10000], \n",
    "    'vectorizer__stop_words': ['english']\n",
    "}\n",
    "\n",
    "# Création d'une pipeline pour combiner le vectorizer et le modèle\n",
    "pipeline = Pipeline([\n",
    "    ('vectorizer', TfidfVectorizer()),\n",
    "    ('model', LogisticRegression(max_iter=1000, class_weight='balanced'))\n",
    "])\n",
    "\n",
    "# Utilisation de GridSearchCV pour trouver les meilleurs paramètres\n",
    "grid_search = GridSearchCV(pipeline, param_grid, cv=5, n_jobs=-1, verbose=1)\n",
    "grid_search.fit(X_train, y_train)\n",
    "\n",
    "print(f\"Meilleurs paramètres : {grid_search.best_params_}\")\n",
    "print(f\"Score de validation croisée pour les meilleurs paramètres : {grid_search.best_score_}\")\n",
    "\n",
    "test_score = grid_search.score(X_test, y_test)\n",
    "print(f\"Score sur l'ensemble de test : {test_score}\")\n"
   ]
  },
  {
   "attachments": {},
   "cell_type": "markdown",
   "metadata": {},
   "source": [
    "### ***Observation:***\n",
    "\n",
    "Meilleurs paramètres : {'model__C': 1, 'model__penalty': 'l2', 'model__solver': 'liblinear', 'vectorizer__max_features': 10000, 'vectorizer__stop_words': 'english'}\n",
    "\n",
    "Score de validation croisée pour les meilleurs paramètres : 0.6094443517188625\n",
    "\n",
    "Score sur l'ensemble de test : 0.6262503049524274"
   ]
  },
  {
   "cell_type": "code",
   "execution_count": 22,
   "metadata": {},
   "outputs": [
    {
     "name": "stdout",
     "output_type": "stream",
     "text": [
      "                                               params  mean_test_score  \\\n",
      "10  {'model__C': 1, 'model__penalty': 'l2', 'model...         0.609444   \n",
      "6   {'model__C': 0.1, 'model__penalty': 'l2', 'mod...         0.602246   \n",
      "8   {'model__C': 1, 'model__penalty': 'l1', 'model...         0.594681   \n",
      "11  {'model__C': 1, 'model__penalty': 'l2', 'model...         0.591752   \n",
      "7   {'model__C': 0.1, 'model__penalty': 'l2', 'mod...         0.584798   \n",
      "14  {'model__C': 10, 'model__penalty': 'l2', 'mode...         0.582175   \n",
      "15  {'model__C': 10, 'model__penalty': 'l2', 'mode...         0.578026   \n",
      "13  {'model__C': 10, 'model__penalty': 'l1', 'mode...         0.562958   \n",
      "9   {'model__C': 1, 'model__penalty': 'l1', 'model...         0.561920   \n",
      "3   {'model__C': 0.01, 'model__penalty': 'l2', 'mo...         0.561311   \n",
      "19  {'model__C': 100, 'model__penalty': 'l2', 'mod...         0.556369   \n",
      "12  {'model__C': 10, 'model__penalty': 'l1', 'mode...         0.555820   \n",
      "18  {'model__C': 100, 'model__penalty': 'l2', 'mod...         0.550451   \n",
      "17  {'model__C': 100, 'model__penalty': 'l1', 'mod...         0.545937   \n",
      "4   {'model__C': 0.1, 'model__penalty': 'l1', 'mod...         0.538434   \n",
      "16  {'model__C': 100, 'model__penalty': 'l1', 'mod...         0.526049   \n",
      "5   {'model__C': 0.1, 'model__penalty': 'l1', 'mod...         0.500733   \n",
      "2   {'model__C': 0.01, 'model__penalty': 'l2', 'mo...         0.458943   \n",
      "0   {'model__C': 0.01, 'model__penalty': 'l1', 'mo...         0.443143   \n",
      "1   {'model__C': 0.01, 'model__penalty': 'l1', 'mo...         0.169774   \n",
      "\n",
      "    std_test_score  \n",
      "10        0.005997  \n",
      "6         0.010522  \n",
      "8         0.004333  \n",
      "11        0.002019  \n",
      "7         0.004647  \n",
      "14        0.003232  \n",
      "15        0.006699  \n",
      "13        0.005119  \n",
      "9         0.011976  \n",
      "3         0.006172  \n",
      "19        0.005467  \n",
      "12        0.005920  \n",
      "18        0.004018  \n",
      "17        0.003530  \n",
      "4         0.005585  \n",
      "16        0.006999  \n",
      "5         0.005398  \n",
      "2         0.002543  \n",
      "0         0.000113  \n",
      "1         0.100555  \n"
     ]
    }
   ],
   "source": [
    "results_df = pd.DataFrame(grid_search.cv_results_)\n",
    "columns_to_display = ['params', 'mean_test_score', 'std_test_score']\n",
    "results_df = results_df[columns_to_display]\n",
    "results_df = results_df.sort_values(by='mean_test_score', ascending=False)\n",
    "\n",
    "print(results_df)\n"
   ]
  },
  {
   "cell_type": "code",
   "execution_count": 23,
   "metadata": {},
   "outputs": [
    {
     "name": "stdout",
     "output_type": "stream",
     "text": [
      "Accuracy: 0.6248\n",
      "Classification Report:\n",
      "              precision    recall  f1-score   support\n",
      "\n",
      "           1       0.65      0.69      0.67       292\n",
      "           2       0.39      0.47      0.43       333\n",
      "           3       0.39      0.38      0.38       432\n",
      "           4       0.57      0.46      0.51      1252\n",
      "           5       0.74      0.82      0.78      1790\n",
      "\n",
      "    accuracy                           0.62      4099\n",
      "   macro avg       0.55      0.56      0.55      4099\n",
      "weighted avg       0.62      0.62      0.62      4099\n",
      "\n"
     ]
    }
   ],
   "source": [
    "dataset = pd.read_csv('cleaned_tripadvisor_reviews.csv', index_col=0)\n",
    "\n",
    "X = dataset['cleaned_text']\n",
    "y = dataset['Rating']\n",
    "X_train, X_test, y_train, y_test = train_test_split(X, y, test_size=0.2, random_state=42)\n",
    "\n",
    "    \n",
    "classifier = TextClassifier(model=LogisticRegression(max_iter=1000, class_weight='balanced', penalty='l2', C=1, solver='liblinear', ), vectorizer=TfidfVectorizer(max_features=5000, stop_words='english'))\n",
    "classifier.train(X_train, y_train)\n",
    "classifier.evaluate(X_test, y_test)"
   ]
  },
  {
   "attachments": {},
   "cell_type": "markdown",
   "metadata": {},
   "source": [
    "## Comparison with Logistic Regression (Class Weighted)\n",
    "\n",
    "After hyperparameters tuning, here is a comparison with the previous Logistic Regression class-weighted model:\n",
    "\n",
    "- **Accuracy:** 0.6248 (2% increase)\n",
    "- **Recall for Class 2:** 0.47 (similar)\n",
    "- **Recall for Class 3:** 0.38 (13% decrease)\n",
    "\n",
    "These Results highlights the difficulties to improve the accuracy while keeping a good recall for the class 3. This is a logic issue as it is the class with the least amount of data and the most of dificult to predict with 2 and 4 that are really close"
   ]
  },
  {
   "attachments": {},
   "cell_type": "markdown",
   "metadata": {},
   "source": [
    "# ***Hyperparameter tuning on different metrics***\n",
    "\n",
    "I want to know until which point we are able to improve the recall of the class 3 so we will use GridSearchCV to find the best hyperparameters with class 3 recall as scoring"
   ]
  },
  {
   "cell_type": "code",
   "execution_count": null,
   "metadata": {},
   "outputs": [],
   "source": [
    "# Séparation des données en ensembles d'entraînement et de test\n",
    "X = dataset['cleaned_text']\n",
    "y = dataset['Rating']\n",
    "X_train, X_test, y_train, y_test = train_test_split(X, y, test_size=0.2, random_state=42)\n",
    "\n",
    "# Paramètres pour GridSearchCV\n",
    "param_grid = {\n",
    "    'model__C': [ 0.1, 1, 10],\n",
    "    'model__penalty': ['l1', 'l2'],\n",
    "    'model__solver': ['newton-cg', 'lbfgs', 'liblinear', 'sag', 'saga'],\n",
    "    'model__multi_class': ['auto', 'ovr', 'multinomial'],\n",
    "    'model__max_iter': [100],\n",
    "    'model__fit_intercept': [True, False],\n",
    "    'vectorizer__max_features': [10000, 20000],\n",
    "    'vectorizer__stop_words': ['english']\n",
    "}\n",
    "\n",
    "# Création d'une pipeline pour combiner le vectorizer et le modèle\n",
    "pipeline = Pipeline([\n",
    "    ('vectorizer', TfidfVectorizer()),\n",
    "    ('model', LogisticRegression(max_iter=1000, class_weight='balanced'))\n",
    "])\n",
    "\n",
    "# Utilisation de GridSearchCV pour trouver les meilleurs paramètres\n",
    "def custom_f1_score_class_3(y_true, y_pred):\n",
    "    return f1_score(y_true, y_pred, labels=[3], average='weighted')\n",
    "scorer = make_scorer(custom_f1_score_class_3)\n",
    "grid_search = GridSearchCV(pipeline, param_grid, cv=4, n_jobs=-1, verbose=1, scoring=scorer)\n",
    "grid_search.fit(X_train, y_train)\n",
    "\n",
    "# Résultats\n",
    "print(f\"Meilleurs paramètres : {grid_search.best_params_}\")\n",
    "print(f\"Score de validation croisée pour les meilleurs paramètres : {grid_search.best_score_}\")\n",
    "\n",
    "# Évaluation sur l'ensemble de test\n",
    "test_score = grid_search.score(X_test, y_test)\n",
    "print(f\"Score sur l'ensemble de test : {test_score}\")"
   ]
  },
  {
   "cell_type": "code",
   "execution_count": 43,
   "metadata": {},
   "outputs": [
    {
     "name": "stdout",
     "output_type": "stream",
     "text": [
      "Accuracy: 0.6089\n",
      "Classification Report:\n",
      "              precision    recall  f1-score   support\n",
      "\n",
      "           1       0.74      0.59      0.65       292\n",
      "           2       0.38      0.56      0.45       333\n",
      "           3       0.37      0.42      0.39       432\n",
      "           4       0.55      0.48      0.51      1252\n",
      "           5       0.76      0.76      0.76      1790\n",
      "\n",
      "    accuracy                           0.61      4099\n",
      "   macro avg       0.56      0.56      0.55      4099\n",
      "weighted avg       0.62      0.61      0.61      4099\n",
      "\n"
     ]
    }
   ],
   "source": [
    "dataset = pd.read_csv('cleaned_tripadvisor_reviews.csv', index_col=0)\n",
    "\n",
    "X = dataset['cleaned_text']\n",
    "y = dataset['Rating']\n",
    "X_train, X_test, y_train, y_test = train_test_split(X, y, test_size=0.2, random_state=42)\n",
    "\n",
    "    \n",
    "classifier = TextClassifier(model=LogisticRegression(max_iter=100, class_weight='balanced', penalty='l2', C=0.1, multi_class='ovr',fit_intercept=False, solver='newton-cg'  ), vectorizer=TfidfVectorizer(max_features=20000, stop_words='english'))\n",
    "classifier.train(X_train, y_train)\n",
    "classifier.evaluate(X_test, y_test)"
   ]
  },
  {
   "attachments": {},
   "cell_type": "markdown",
   "metadata": {},
   "source": [
    "Logistic Regression with balanced class weights\n",
    "\n",
    "              precision    recall  f1-score   support\n",
    "\n",
    "           1       0.65      0.70      0.67       292\n",
    "           2       0.38      0.48      0.43       333\n",
    "           3       0.36      0.44      0.39       432\n",
    "           4       0.55      0.48      0.52      1252\n",
    "           5       0.77      0.75      0.76      1790\n",
    "          accuracy                     0.61      4099\n",
    "\n",
    "\n",
    "### ***Observation:***\n",
    "\n",
    "- We have really different results with the 2 different metrics while f1 score is approximately the same for each class. \n",
    "- We improved the recall of class 2 by 0.08\n",
    "- Lost 0.11 in recall for class 1 while increasing accuracy by 0.9 in the same class. \n",
    "\n",
    "### ***Conclusion:***\n",
    "\n",
    "I will choose to focus on the simple Logistic Regression with class_weight='balanced' as hyperparameter tuning gave nothing really interesting. \n",
    "This way I prefer to keep it simple"
   ]
  },
  {
   "attachments": {},
   "cell_type": "markdown",
   "metadata": {},
   "source": [
    "# ***return to preprocessing***\n",
    "\n",
    "this part could have been added to the preprocessing pipeline but I was interested to notice the importance that it could have on my model and if it could give some interesting insight to the model in order to increase the result. That's why I'm testing there."
   ]
  },
  {
   "attachments": {},
   "cell_type": "markdown",
   "metadata": {},
   "source": [
    "# ***bigram and trigram***"
   ]
  },
  {
   "cell_type": "code",
   "execution_count": 5,
   "metadata": {},
   "outputs": [
    {
     "name": "stdout",
     "output_type": "stream",
     "text": [
      "                                              Review  Rating  \\\n",
      "0  nice hotel expensive parking got good deal sta...       4   \n",
      "1  ok nothing special charge diamond member hilto...       2   \n",
      "2  nice rooms not 4* experience hotel monaco seat...       3   \n",
      "3  unique, great stay, wonderful time hotel monac...       5   \n",
      "4  great stay great stay, went seahawk game aweso...       5   \n",
      "\n",
      "                                        cleaned_text  \n",
      "0  nice hotel expensive parking get good deal sta...  \n",
      "1  ok nothing special charge diamond member hilto...  \n",
      "2  nice room 4 experience hotel monaco seattle go...  \n",
      "3  unique great stay wonderful time hotel monaco ...  \n",
      "4  great stay great stay go seahawk game awesome ...  \n"
     ]
    }
   ],
   "source": [
    "from gensim.models.phrases import Phrases\n",
    "\n",
    "words = [review.split() for review in dataset['cleaned_text']]\n",
    "\n",
    "# Détecter et ajouter les bigrammes et trigrammes\n",
    "bigram = Phrases(words, min_count=10)\n",
    "trigram = Phrases(bigram[words])\n",
    "\n",
    "for idx in range(len(words)):\n",
    "    doc = words[idx]\n",
    "    \n",
    "    # Ajouter les bigrammes\n",
    "    bigrams = [token for token in bigram[doc] if '_' in token]\n",
    "    words[idx].extend(bigrams)\n",
    "    \n",
    "    # Ajouter les trigrammes\n",
    "    trigrams = [token for token in trigram[bigram[doc]] if '_' in token]\n",
    "    words[idx].extend(trigrams)\n",
    "\n",
    "# Remplacez la colonne cleaned_text par la version mise à jour\n",
    "dataset['cleaned_text'] = words\n",
    "\n",
    "# convertir les listes de mots de retour en chaînes :\n",
    "dataset['cleaned_text'] = [' '.join(doc) for doc in words]\n",
    "\n",
    "print(dataset.head())"
   ]
  },
  {
   "attachments": {},
   "cell_type": "markdown",
   "metadata": {},
   "source": [
    "# ***remove most common and rare words***"
   ]
  },
  {
   "cell_type": "code",
   "execution_count": 6,
   "metadata": {},
   "outputs": [
    {
     "name": "stdout",
     "output_type": "stream",
     "text": [
      "Number of unique words in initial documents: 84501\n",
      "Number of unique words after removing rare and common words: 13367\n"
     ]
    }
   ],
   "source": [
    "from gensim.corpora import Dictionary\n",
    "\n",
    "# Créer un dictionnaire à partir des documents\n",
    "dictionary = Dictionary(words)\n",
    "print('Number of unique words in initial documents:', len(dictionary))\n",
    "\n",
    "# Filtrer les mots qui apparaissent dans moins de 10 documents ou dans plus de 30% des documents\n",
    "dictionary.filter_extremes(no_below=10, no_above=0.4)\n",
    "print('Number of unique words after removing rare and common words:', len(dictionary))"
   ]
  },
  {
   "cell_type": "code",
   "execution_count": 7,
   "metadata": {},
   "outputs": [
    {
     "name": "stderr",
     "output_type": "stream",
     "text": [
      "/Users/delaygues/opt/anaconda3/lib/python3.8/site-packages/sklearn/linear_model/_logistic.py:458: ConvergenceWarning: lbfgs failed to converge (status=1):\n",
      "STOP: TOTAL NO. of ITERATIONS REACHED LIMIT.\n",
      "\n",
      "Increase the number of iterations (max_iter) or scale the data as shown in:\n",
      "    https://scikit-learn.org/stable/modules/preprocessing.html\n",
      "Please also refer to the documentation for alternative solver options:\n",
      "    https://scikit-learn.org/stable/modules/linear_model.html#logistic-regression\n",
      "  n_iter_i = _check_optimize_result(\n"
     ]
    },
    {
     "name": "stdout",
     "output_type": "stream",
     "text": [
      "Accuracy: 0.5962\n",
      "Classification Report:\n",
      "              precision    recall  f1-score   support\n",
      "\n",
      "           1       0.66      0.68      0.67       292\n",
      "           2       0.38      0.47      0.42       333\n",
      "           3       0.33      0.39      0.36       432\n",
      "           4       0.53      0.46      0.49      1252\n",
      "           5       0.75      0.75      0.75      1790\n",
      "\n",
      "    accuracy                           0.60      4099\n",
      "   macro avg       0.53      0.55      0.54      4099\n",
      "weighted avg       0.60      0.60      0.60      4099\n",
      "\n"
     ]
    }
   ],
   "source": [
    "X = dataset['cleaned_text']\n",
    "y = dataset['Rating']\n",
    "X_train, X_test, y_train, y_test = train_test_split(X, y, test_size=0.2, random_state=42)\n",
    "\n",
    "    \n",
    "classifier = TextClassifier(model=LogisticRegression(max_iter=100, class_weight='balanced'  ), vectorizer=TfidfVectorizer(max_features=20000, stop_words='english'))\n",
    "classifier.train(X_train, y_train)\n",
    "classifier.evaluate(X_test, y_test)"
   ]
  },
  {
   "attachments": {},
   "cell_type": "markdown",
   "metadata": {},
   "source": [
    "### ***Observation:***\n",
    "\n",
    "Once again these result did not improved the model. F1 score by classes are really similar or even lower than the previous model."
   ]
  },
  {
   "attachments": {},
   "cell_type": "markdown",
   "metadata": {},
   "source": [
    "# ***Remapping the Predictions***\n",
    "\n",
    "To enhance interpretability, the predictions will be remapped as follows:\n",
    "- Class 1 → Negative\n",
    "- Class 2 → Negative\n",
    "- Class 3 → Negative\n",
    "- Class 4 → Good\n",
    "- Class 5 → Excellent\n",
    "\n",
    "- It makes senses as from a Rate of 3 people will start to be mefiants while looking for an hotel on their phone. \n",
    "- This remapping allows to approximately equalize the number of instances in each category, which will facilitate the interpretation of the model's outputs. However as we seen in EDA it will probably lead to a lot of misclassification between Good and Negative as 4 was often miscclasified with 3\n",
    "\n",
    "This remapping provides simplified prediction categories, making the predictions easier for the model while keeping real sense for the user.\n",
    "\n"
   ]
  },
  {
   "cell_type": "code",
   "execution_count": 24,
   "metadata": {},
   "outputs": [],
   "source": [
    "dataset = pd.read_csv('data/cleaned_tripadvisor_reviews.csv', index_col=0)\n",
    "mapping = {1: 'negative', 2: 'negative', 3: 'negative', 4: 'good', 5: 'excellent'}\n",
    "dataset['sentiment'] = dataset['Rating'].map(mapping)"
   ]
  },
  {
   "cell_type": "code",
   "execution_count": 25,
   "metadata": {},
   "outputs": [
    {
     "name": "stdout",
     "output_type": "stream",
     "text": [
      "Accuracy: 0.7146\n",
      "Classification Report:\n",
      "              precision    recall  f1-score   support\n",
      "\n",
      "   excellent       0.75      0.82      0.78      1790\n",
      "        good       0.58      0.47      0.52      1252\n",
      "    negative       0.77      0.83      0.80      1057\n",
      "\n",
      "    accuracy                           0.71      4099\n",
      "   macro avg       0.70      0.71      0.70      4099\n",
      "weighted avg       0.70      0.71      0.71      4099\n",
      "\n"
     ]
    }
   ],
   "source": [
    "X = dataset['cleaned_text']\n",
    "y = dataset['sentiment']\n",
    "X_train, X_test, y_train, y_test = train_test_split(X, y, test_size=0.2, random_state=42)\n",
    "\n",
    "    \n",
    "classifier = TextClassifier(model=LogisticRegression(max_iter=100, class_weight='balanced', penalty='l2', C=1, solver='liblinear', ), vectorizer=TfidfVectorizer(max_features=5000, stop_words='english'))\n",
    "classifier.train(X_train, y_train)\n",
    "classifier.evaluate(X_test, y_test)\n"
   ]
  },
  {
   "cell_type": "code",
   "execution_count": 16,
   "metadata": {},
   "outputs": [
    {
     "data": {
      "text/plain": [
       "<Axes: >"
      ]
     },
     "execution_count": 16,
     "metadata": {},
     "output_type": "execute_result"
    },
    {
     "data": {
      "image/png": "[encoded data removed]",
      "text/plain": [
       "<Figure size 640x480 with 1 Axes>"
      ]
     },
     "metadata": {},
     "output_type": "display_data"
    }
   ],
   "source": [
    "y_pred = classifier.predict(X_test)\n",
    "cm = confusion_matrix(y_test, y_pred)\n",
    "labels = ['excellent', 'good', 'negative']\n",
    "plt.xlabel(\"Predicted labels\")\n",
    "plt.ylabel(\"True labels\")\n",
    "sns.heatmap(cm, annot=True, fmt='d', color='blue', cmap='Blues', cbar=False, xticklabels=labels, yticklabels=labels)\n"
   ]
  },
  {
   "attachments": {},
   "cell_type": "markdown",
   "metadata": {},
   "source": [
    "### ***Observation:***\n",
    "\n",
    "- As expected the class \"good\" is difficult to predict but for the others classes we have good result.\n",
    "- We notice the fact that the model is almost never doing big mistakes, it only has difficulties to differenciate Good / excellent and Good / Negative.\n",
    "- The number of True Good classified as excellent is huge. it could be a big are of improvement for the model.\n",
    "- As we discussed before, the class Good is the only class that as rate below and above. It is the only class that can make mistake on both sides. It is like a bias that explain why we have worst result on this class\n"
   ]
  },
  {
   "cell_type": "code",
   "execution_count": 32,
   "metadata": {},
   "outputs": [
    {
     "name": "stdout",
     "output_type": "stream",
     "text": [
      "Top 10 hotel-related words for Class excellent:\n",
      "['excellent', 'wonderful', 'beautiful', 'friendly', 'want', 'recommend', 'helpful', 'book', 'really', 'pool']\n",
      "\n",
      "\n",
      "Top 10 hotel-related words for Class good:\n",
      "['comfortable', 'small', 'helpful', 'food', 'beach', 'floor', 'price', 'street', 'block', 'view']\n",
      "\n",
      "\n",
      "Top 10 hotel-related words for Class negative:\n",
      "['bad', 'tell', 'pay', 'small', 'desk', 'say', 'bathroom', 'ask', 'bed', 'area']\n",
      "\n",
      "\n"
     ]
    }
   ],
   "source": [
    "# Get the feature names from the vectorizer\n",
    "feature_names = np.array(classifier.vectorizer.get_feature_names_out())\n",
    "\n",
    "# Get the coefficients from the trained model\n",
    "coefficients = classifier.model.coef_\n",
    "\n",
    "# Define specific terms related to hotel elements\n",
    "hotel_elements = [\n",
    "    'lot', 'want', 'beautiful', 'really', 'buffet', 'drink', 'water', 'bar', 'like', 'people',\n",
    "    'punta_cana', 'pool', 'food', 'resort', 'beach', 'block', 'wonderful', 'city', 'excellent',\n",
    "    'price', 'highly_recommend', 'recommend', 'comfortable', 'walk_distance', 'small', 'street',\n",
    "    'area', 'staff_friendly', 'helpful', 'friendly', 'pay', 'leave', 'food', 'book', 'pool', 'people',\n",
    "    'bad', 'come', 'ask', 'check', 'desk', 'tell', 'like', 'say', 'new_york', 'station', 'price', 'city',\n",
    "    'minute', 'area', 'book', 'really', 'excellent', 'floor', 'view', 'small', 'bathroom', 'bed'\n",
    "]\n",
    "\n",
    "# Display the top N features for each class related to hotel elements\n",
    "top_n = 10\n",
    "for i, sentiment_class in enumerate(classifier.model.classes_):\n",
    "    print(f\"Top {top_n} hotel-related words for Class {sentiment_class}:\")\n",
    "    class_coefficients = coefficients[i]\n",
    "    \n",
    "    # Filter coefficients related to hotel elements\n",
    "    hotel_related_coefficients = [coef for coef, feature in zip(class_coefficients, feature_names) if feature in hotel_elements]\n",
    "    \n",
    "    # Get the corresponding feature names\n",
    "    hotel_related_features = [feature for feature in feature_names if feature in hotel_elements]\n",
    "    \n",
    "    # Sort based on coefficients\n",
    "    sorted_features = sorted(zip(hotel_related_features, hotel_related_coefficients), key=lambda x: x[1], reverse=True)\n",
    "    \n",
    "    # Display top features\n",
    "    top_features = [feature for feature, _ in sorted_features[:top_n]]\n",
    "    print(top_features)\n",
    "    print(\"\\n\")\n",
    "\n",
    "\n"
   ]
  },
  {
   "attachments": {},
   "cell_type": "markdown",
   "metadata": {},
   "source": [
    "# ***Observation***\n",
    "\n",
    "By using the words from the Topic modelling notebook, we can learn about the words that are the most present in each class it means that they have a big impact on the prediction of the model. \n",
    "\n",
    "### ***Going further?:***\n",
    "\n",
    "My last Idea to improve the model and get real insgiht on what are the best elements for a model is to print these most important words but based on a list of bigram and trigram created as follows: adj + hotel related words. it means that everytime we have a words as excellent, bad, wonderful... we create a bigram with the best words so that the top words will be for exemple wonderful view, expensive price what give real insight."
   ]
  }
 ],
 "metadata": {
  "kernelspec": {
   "display_name": "base",
   "language": "python",
   "name": "python3"
  },
  "language_info": {
   "codemirror_mode": {
    "name": "ipython",
    "version": 3
   },
   "file_extension": ".py",
   "mimetype": "text/x-python",
   "name": "python",
   "nbconvert_exporter": "python",
   "pygments_lexer": "ipython3",
   "version": "3.8.8"
  },
  "orig_nbformat": 4
 },
 "nbformat": 4,
 "nbformat_minor": 2
}
